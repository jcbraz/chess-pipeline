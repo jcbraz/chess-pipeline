{
 "cells": [
  {
   "cell_type": "code",
   "execution_count": 1,
   "metadata": {},
   "outputs": [],
   "source": [
    "import os\n",
    "from re import compile\n",
    "from loaders.s3_bucket import S3Bucket\n",
    "from pyspark.sql import DataFrame, SparkSession, Row\n",
    "from pyspark.sql.functions import (\n",
    "    monotonically_increasing_id,\n",
    "    regexp_extract,\n",
    "    when,\n",
    "    col,\n",
    "    lit,\n",
    "    regexp_replace,\n",
    "    first,\n",
    "    coalesce,\n",
    "    sum,\n",
    "    explode,\n",
    "    udf,\n",
    ")\n",
    "from pyspark.sql.window import Window\n",
    "from pyspark.sql.types import (\n",
    "    StructType,\n",
    "    StructField,\n",
    "    StringType,\n",
    "    IntegerType,\n",
    "    ArrayType,\n",
    ")\n",
    "\n",
    "development_phase_flag = \"development\""
   ]
  },
  {
   "cell_type": "code",
   "execution_count": 2,
   "metadata": {},
   "outputs": [
    {
     "name": "stderr",
     "output_type": "stream",
     "text": [
      "24/10/02 23:26:43 WARN Utils: Your hostname, Joses-MacBook-Pro.local resolves to a loopback address: 127.0.0.1; using 172.20.10.2 instead (on interface en0)\n",
      "24/10/02 23:26:43 WARN Utils: Set SPARK_LOCAL_IP if you need to bind to another address\n"
     ]
    },
    {
     "name": "stdout",
     "output_type": "stream",
     "text": [
      ":: loading settings :: url = jar:file:/Users/jcbraz/Projects/chess-pipeline/.venv/lib/python3.12/site-packages/pyspark/jars/ivy-2.5.1.jar!/org/apache/ivy/core/settings/ivysettings.xml\n"
     ]
    },
    {
     "name": "stderr",
     "output_type": "stream",
     "text": [
      "Ivy Default Cache set to: /Users/jcbraz/.ivy2/cache\n",
      "The jars for the packages stored in: /Users/jcbraz/.ivy2/jars\n",
      "org.apache.hadoop#hadoop-aws added as a dependency\n",
      "com.amazonaws#aws-java-sdk-bundle added as a dependency\n",
      ":: resolving dependencies :: org.apache.spark#spark-submit-parent-705e97f7-3d58-4d6a-87eb-cc5e7f8755af;1.0\n",
      "\tconfs: [default]\n",
      "\tfound org.apache.hadoop#hadoop-aws;3.3.4 in central\n",
      "\tfound org.wildfly.openssl#wildfly-openssl;1.0.7.Final in central\n",
      "\tfound com.amazonaws#aws-java-sdk-bundle;1.12.319 in central\n",
      ":: resolution report :: resolve 479ms :: artifacts dl 17ms\n",
      "\t:: modules in use:\n",
      "\tcom.amazonaws#aws-java-sdk-bundle;1.12.319 from central in [default]\n",
      "\torg.apache.hadoop#hadoop-aws;3.3.4 from central in [default]\n",
      "\torg.wildfly.openssl#wildfly-openssl;1.0.7.Final from central in [default]\n",
      "\t:: evicted modules:\n",
      "\tcom.amazonaws#aws-java-sdk-bundle;1.12.262 by [com.amazonaws#aws-java-sdk-bundle;1.12.319] in [default]\n",
      "\t---------------------------------------------------------------------\n",
      "\t|                  |            modules            ||   artifacts   |\n",
      "\t|       conf       | number| search|dwnlded|evicted|| number|dwnlded|\n",
      "\t---------------------------------------------------------------------\n",
      "\t|      default     |   4   |   0   |   0   |   1   ||   3   |   0   |\n",
      "\t---------------------------------------------------------------------\n",
      ":: retrieving :: org.apache.spark#spark-submit-parent-705e97f7-3d58-4d6a-87eb-cc5e7f8755af\n",
      "\tconfs: [default]\n",
      "\t0 artifacts copied, 3 already retrieved (0kB/18ms)\n",
      "24/10/02 23:26:44 WARN NativeCodeLoader: Unable to load native-hadoop library for your platform... using builtin-java classes where applicable\n",
      "Setting default log level to \"WARN\".\n",
      "To adjust logging level use sc.setLogLevel(newLevel). For SparkR, use setLogLevel(newLevel).\n"
     ]
    }
   ],
   "source": [
    "hadoop_aws_version = \"3.3.4\"\n",
    "aws_java_sdk_version = \"1.12.319\"\n",
    "\n",
    "builder = (\n",
    "    SparkSession.builder.appName(\"LoadGamesFromS3\")\n",
    "    .config(\n",
    "        \"spark.jars.packages\",\n",
    "        f\"org.apache.hadoop:hadoop-aws:{hadoop_aws_version},com.amazonaws:aws-java-sdk-bundle:{aws_java_sdk_version}\",\n",
    "    )\n",
    "    .config(\"spark.hadoop.fs.s3a.impl\", \"org.apache.hadoop.fs.s3a.S3AFileSystem\")\n",
    "    .config(\n",
    "        \"spark.hadoop.fs.s3a.aws.credentials.provider\",\n",
    "        \"org.apache.hadoop.fs.s3a.SimpleAWSCredentialsProvider\",\n",
    "    )\n",
    "    .config(\"spark.hadoop.fs.s3a.access.key\", os.environ[\"S3_ACCESS_KEY_ID\"])\n",
    "    .config(\"spark.hadoop.fs.s3a.secret.key\", os.environ[\"S3_SECRET_ACCESS_KEY\"])\n",
    "    .config(\"spark.hadoop.fs.s3a.endpoint\", \"https://s3.cubbit.eu\")\n",
    "    .config(\"spark.hadoop.fs.s3a.path.style.access\", \"true\")\n",
    "    .config(\"spark.hadoop.fs.s3a.connection.ssl.enabled\", \"true\")\n",
    ")\n",
    "spark: SparkSession = builder.getOrCreate()"
   ]
  },
  {
   "cell_type": "code",
   "execution_count": 3,
   "metadata": {},
   "outputs": [],
   "source": [
    "s3_bucket = S3Bucket(\n",
    "    spark=spark,\n",
    "    object_key=\"lichess_standard_rated_2024-08.pgn.zst\",\n",
    "    bucket_name=\"chess-pipeline\",\n",
    "    endpoint=\"https://s3.cubbit.eu\",\n",
    "    region=\"eu-west-1\",\n",
    "    s3_access_key=os.environ[\"S3_ACCESS_KEY_ID\"],\n",
    "    s3_secret_key=os.environ[\"S3_SECRET_ACCESS_KEY\"],\n",
    ")"
   ]
  },
  {
   "cell_type": "code",
   "execution_count": 4,
   "metadata": {},
   "outputs": [
    {
     "name": "stderr",
     "output_type": "stream",
     "text": [
      "                                                                                \r"
     ]
    },
    {
     "name": "stdout",
     "output_type": "stream",
     "text": [
      "+--------------------+\n",
      "|               value|\n",
      "+--------------------+\n",
      "|[Event Rated Bull...|\n",
      "|[Site https://lic...|\n",
      "|   [Date 2024.08.01]|\n",
      "|           [Round -]|\n",
      "|[White kingskreamer]|\n",
      "| [Black mysteryvabs]|\n",
      "|[UTCDate 2024.08.01]|\n",
      "|     [WhiteElo 2148]|\n",
      "|     [BlackElo 2155]|\n",
      "|[WhiteRatingDiff +6]|\n",
      "|[BlackRatingDiff -6]|\n",
      "|           [ECO B10]|\n",
      "|[Opening Caro-Kan...|\n",
      "|  [TimeControl 60+0]|\n",
      "|[Termination Time...|\n",
      "|1. e4 { [%clk 0:0...|\n",
      "|[Event Rated Bull...|\n",
      "|[Site https://lic...|\n",
      "|   [Date 2024.08.01]|\n",
      "|           [Round -]|\n",
      "+--------------------+\n",
      "only showing top 20 rows\n",
      "\n"
     ]
    }
   ],
   "source": [
    "# read csv from data dir\n",
    "if development_phase_flag == \"development\":\n",
    "    games_df: DataFrame = (\n",
    "        spark.read.csv(\"../data/sample_games.csv\", header=True)\n",
    "        .filter(\n",
    "            (col(\"value\") != \"\")\n",
    "            & (~col(\"value\").like(\"%UTCTime%\"))\n",
    "            & (~col(\"value\").like(\"%Result%\"))\n",
    "        )\n",
    "        .withColumn(\"value\", regexp_replace(\"value\", '\"', \"\"))\n",
    "        .drop(\"_c0\")\n",
    "    )\n",
    "\n",
    "    games_df.show()\n",
    "else:\n",
    "\n",
    "    games_df = (\n",
    "        s3_bucket.load_games_dataframe_from_s3()\n",
    "        .filter(\n",
    "            (col(\"value\") != \"\")\n",
    "            & (~col(\"value\").like(\"%UTCTime%\"))\n",
    "            & (~col(\"value\").like(\"%Result%\"))\n",
    "        )\n",
    "        .withColumn(\"value\", regexp_replace(\"value\", '\"', \"\"))\n",
    "        .drop(\"_c0\")\n",
    "    )"
   ]
  },
  {
   "cell_type": "code",
   "execution_count": 5,
   "metadata": {},
   "outputs": [
    {
     "name": "stderr",
     "output_type": "stream",
     "text": [
      "24/10/02 23:26:59 WARN WindowExec: No Partition Defined for Window operation! Moving all data to a single partition, this can cause serious performance degradation.\n",
      "24/10/02 23:26:59 WARN WindowExec: No Partition Defined for Window operation! Moving all data to a single partition, this can cause serious performance degradation.\n",
      "24/10/02 23:26:59 WARN WindowExec: No Partition Defined for Window operation! Moving all data to a single partition, this can cause serious performance degradation.\n",
      "24/10/02 23:27:00 WARN WindowExec: No Partition Defined for Window operation! Moving all data to a single partition, this can cause serious performance degradation.\n",
      "24/10/02 23:27:00 WARN WindowExec: No Partition Defined for Window operation! Moving all data to a single partition, this can cause serious performance degradation.\n"
     ]
    },
    {
     "name": "stdout",
     "output_type": "stream",
     "text": [
      "+--------------------+---------------+--------------------+-----------+------+\n",
      "|                Line|            Key|               Value|StartOfGame|GameID|\n",
      "+--------------------+---------------+--------------------+-----------+------+\n",
      "|[Event Rated Bull...|          Event|   Rated Bullet game|          1|     1|\n",
      "|[Site https://lic...|           Site|https://lichess.o...|          0|     1|\n",
      "|   [Date 2024.08.01]|           Date|          2024.08.01|          0|     1|\n",
      "|           [Round -]|          Round|                   -|          0|     1|\n",
      "|[White kingskreamer]|          White|        kingskreamer|          0|     1|\n",
      "| [Black mysteryvabs]|          Black|         mysteryvabs|          0|     1|\n",
      "|[UTCDate 2024.08.01]|        UTCDate|          2024.08.01|          0|     1|\n",
      "|     [WhiteElo 2148]|       WhiteElo|                2148|          0|     1|\n",
      "|     [BlackElo 2155]|       BlackElo|                2155|          0|     1|\n",
      "|[WhiteRatingDiff +6]|WhiteRatingDiff|                  +6|          0|     1|\n",
      "|[BlackRatingDiff -6]|BlackRatingDiff|                  -6|          0|     1|\n",
      "|           [ECO B10]|            ECO|                 B10|          0|     1|\n",
      "|[Opening Caro-Kan...|        Opening|Caro-Kann Defense...|          0|     1|\n",
      "|  [TimeControl 60+0]|    TimeControl|                60+0|          0|     1|\n",
      "|[Termination Time...|    Termination|        Time forfeit|          0|     1|\n",
      "|1. e4 { [%clk 0:0...|          Moves|1. e4 { [%clk 0:0...|          0|     1|\n",
      "|[Event Rated Bull...|          Event|   Rated Bullet game|          1|     2|\n",
      "|[Site https://lic...|           Site|https://lichess.o...|          0|     2|\n",
      "|   [Date 2024.08.01]|           Date|          2024.08.01|          0|     2|\n",
      "|           [Round -]|          Round|                   -|          0|     2|\n",
      "+--------------------+---------------+--------------------+-----------+------+\n",
      "only showing top 20 rows\n",
      "\n"
     ]
    },
    {
     "name": "stderr",
     "output_type": "stream",
     "text": [
      "                                                                                \r"
     ]
    }
   ],
   "source": [
    "# Rename the \"value\" column to \"Line\"\n",
    "games_df = games_df.withColumnRenamed(\"value\", \"Line\")\n",
    "\n",
    "\n",
    "# Extract the \"Key\" and \"Value\" columns based on the structure of the \"Line\" column\n",
    "games_df = (\n",
    "    games_df.withColumn(\n",
    "        \"Key\",\n",
    "        when(col(\"Line\").startswith(\"1.\"), \"Moves\").otherwise(\n",
    "            regexp_extract(col(\"Line\"), r\"\\[(.*?)\\s\", 1)\n",
    "        ),\n",
    "    )\n",
    "    .withColumn(\n",
    "        \"Value\",\n",
    "        when(col(\"Line\").startswith(\"1.\"), col(\"Line\")).otherwise(\n",
    "            regexp_replace(col(\"Line\"), r\"\\[\\w+\\s\", \"\"),\n",
    "        ),\n",
    "    )\n",
    "    .withColumn(\"Value\", regexp_replace(col(\"Value\"), r\"\\]\", \"\"))\n",
    ")\n",
    "\n",
    "# Add a column to identify the start of a game\n",
    "games_df = games_df.withColumn(\n",
    "    \"StartOfGame\", when(col(\"Line\").startswith(\"[Event\"), 1).otherwise(lit(0))\n",
    ")\n",
    "\n",
    "# Define a window specification for calculating the cumulative sum\n",
    "windowSpec = Window.orderBy(monotonically_increasing_id())\n",
    "\n",
    "# Calculate the cumulative sum of \"StartOfGame\" to create \"GameID\"\n",
    "games_df = games_df.withColumn(\"GameID\", sum(col(\"StartOfGame\")).over(windowSpec))\n",
    "\n",
    "games_df.show()"
   ]
  },
  {
   "cell_type": "code",
   "execution_count": 6,
   "metadata": {},
   "outputs": [
    {
     "name": "stderr",
     "output_type": "stream",
     "text": [
      "                                                                                \r"
     ]
    },
    {
     "data": {
      "text/plain": [
       "['TimeControl',\n",
       " 'Round',\n",
       " 'ECO',\n",
       " 'Event',\n",
       " 'WhiteElo',\n",
       " 'WhiteTitle',\n",
       " 'BlackElo',\n",
       " 'Termination',\n",
       " 'BlackRatingDiff',\n",
       " 'Opening',\n",
       " 'Moves',\n",
       " 'WhiteRatingDiff',\n",
       " 'White',\n",
       " 'BlackTitle',\n",
       " 'UTCDate',\n",
       " 'Date',\n",
       " 'Black',\n",
       " 'Site']"
      ]
     },
     "execution_count": 6,
     "metadata": {},
     "output_type": "execute_result"
    }
   ],
   "source": [
    "col_list = (\n",
    "    games_df.select(\"Key\")\n",
    "    .groupBy(\"Key\").count()\n",
    "    .filter(col(\"Key\") != \"\")\n",
    "    .toPandas()[\"Key\"]\n",
    "    .tolist()\n",
    ")\n",
    "\n",
    "col_list"
   ]
  },
  {
   "cell_type": "code",
   "execution_count": 7,
   "metadata": {},
   "outputs": [
    {
     "name": "stderr",
     "output_type": "stream",
     "text": [
      "24/10/02 23:27:03 WARN WindowExec: No Partition Defined for Window operation! Moving all data to a single partition, this can cause serious performance degradation.\n",
      "24/10/02 23:27:03 WARN WindowExec: No Partition Defined for Window operation! Moving all data to a single partition, this can cause serious performance degradation.\n",
      "24/10/02 23:27:03 WARN SparkStringUtils: Truncated the string representation of a plan since it was too large. This behavior can be adjusted by setting 'spark.sql.debug.maxToStringFields'.\n",
      "24/10/02 23:27:04 WARN WindowExec: No Partition Defined for Window operation! Moving all data to a single partition, this can cause serious performance degradation.\n",
      "24/10/02 23:27:04 WARN WindowExec: No Partition Defined for Window operation! Moving all data to a single partition, this can cause serious performance degradation.\n",
      "[Stage 10:>                                                         (0 + 1) / 1]\r"
     ]
    },
    {
     "name": "stdout",
     "output_type": "stream",
     "text": [
      "+------+-----------+-----+---+--------------------+--------+----------+--------+------------+---------------+--------------------+--------------------+---------------+-------------------+----------+----------+----------+-------------+--------------------+\n",
      "|GameID|TimeControl|Round|ECO|               Event|WhiteElo|WhiteTitle|BlackElo| Termination|BlackRatingDiff|             Opening|               Moves|WhiteRatingDiff|              White|BlackTitle|   UTCDate|      Date|        Black|                Site|\n",
      "+------+-----------+-----+---+--------------------+--------+----------+--------+------------+---------------+--------------------+--------------------+---------------+-------------------+----------+----------+----------+-------------+--------------------+\n",
      "|    40|      180+2|    -|B50|Rated Blitz tourn...|    1845|      NULL|    1888|      Normal|             -7|Sicilian Defense:...|1. e4 { [%eval 0....|             +7|      TenderBeastXL|      NULL|2024.08.01|2024.08.01|    G_Capella|https://lichess.o...|\n",
      "|    50|      600+2|    -|C20|Rated Rapid tourn...|     765|      NULL|     904|      Normal|            -20|King's Pawn Game:...|1. e4 { [%eval 0....|            +23|        SathvikVadi|      NULL|2024.08.01|2024.08.01|  shouryasagi|https://lichess.o...|\n",
      "|    52|       60+0|    -|B40|   Rated Bullet game|    3021|        GM|    3010|      Normal|             -5|Sicilian Defense:...|1. e4 { [%eval 0....|             +6|         HomayooonT|        GM|2024.08.01|2024.08.01|  Fandorine96|https://lichess.o...|\n",
      "|    58|      180+2|    -|C44|    Rated Blitz game|    1764|      NULL|    1791|      Normal|             +5|Scotch Game: Göri...|1. e4 { [%eval 0....|             -5|         RedSword69|      NULL|2024.08.01|2024.08.01|      Avov-59|https://lichess.o...|\n",
      "|    61|      180+2|    -|D30|    Rated Blitz game|    1893|      NULL|    1821|      Normal|             -5|Queen's Gambit De...|1. d4 { [%eval 0....|             +5|         Aslanbey21|      NULL|2024.08.01|2024.08.01|robotikempire|https://lichess.o...|\n",
      "|    65|      180+2|    -|A05|    Rated Blitz game|    1933|      NULL|    1942|      Normal|             +6|King's Indian Att...|1. Nf3 { [%eval 0...|             -6|         P1ckn1cker|      NULL|2024.08.01|2024.08.01|  abnermorana|https://lichess.o...|\n",
      "|    71|      180+0|    -|D02|    Rated Blitz game|    2028|      NULL|    2049|      Normal|             -6|Queen's Pawn Game...|1. d4 { [%eval 0....|             +6|         Analgesico|      NULL|2024.08.01|2024.08.01|CABallero2001|https://lichess.o...|\n",
      "|    83|      180+0|    -|B01|    Rated Blitz game|    2006|      NULL|    1966|      Normal|             +6|Scandinavian Defe...|1. e4 { [%eval 0....|             -6| RhonCorsino_NSamar|      NULL|2024.08.01|2024.08.01|         J33E|https://lichess.o...|\n",
      "|    89|      600+0|    -|C20|    Rated Rapid game|    2092|      NULL|    2060|      Normal|             +7|King's Pawn Game:...|1. e4 { [%eval 0....|             -7|             ssimbu|      NULL|2024.08.01|2024.08.01|     FPaiva_1|https://lichess.o...|\n",
      "|    91|      600+0|    -|C42|    Rated Rapid game|    1552|      NULL|    1488|      Normal|             +7|        Russian Game|1. e4 { [%eval 0....|            -17|        mraeisi1401|      NULL|2024.08.01|2024.08.01| andponkratov|https://lichess.o...|\n",
      "|   110|      300+0|    -|D43|    Rated Blitz game|    2230|      NULL|    2257|Time forfeit|             +5|   Semi-Slav Defense|1. d4 { [%eval 0....|             -5|           MKenarok|      NULL|2024.08.01|2024.08.01|rommel_lucion|https://lichess.o...|\n",
      "|   123|       60+0|    -|A46|   Rated Bullet game|    1056|      NULL|    1144|Time forfeit|            -83|Queen's Pawn Game...|1. d4 { [%eval 0....|             +6|         HMarkhank2|      NULL|2024.08.01|2024.08.01|      lim5070|https://lichess.o...|\n",
      "|   130|      180+2|    -|C25|    Rated Blitz game|    1659|      NULL|    1562|      Normal|             -4|Vienna Game: Max ...|1. e4 { [%eval 0....|            +14|ASalmonWithAttitude|      NULL|2024.08.01|2024.08.01|    BugraAyhn|https://lichess.o...|\n",
      "|   132|      180+0|    -|B06|    Rated Blitz game|    1593|      NULL|    1779|Time forfeit|            +11|      Modern Defense|1. e4 { [%eval 0....|             -3|        chessgunnus|      NULL|2024.08.01|2024.08.01|   rps-santos|https://lichess.o...|\n",
      "|   142|      300+0|    -|A03|    Rated Blitz game|    1195|      NULL|    1086|      Normal|             -3|Bird Opening: Dut...|1. f4 { [%eval -0...|            +52|       andresvaldez|      NULL|2024.08.01|2024.08.01|  white_major|https://lichess.o...|\n",
      "|   154|      600+5|    -|D00|    Rated Rapid game|    1673|      NULL|    1678|      Normal|             +6|Queen's Pawn Game...|1. d4 { [%eval 0....|             -6|        c0nsigL1eRe|      NULL|2024.08.01|2024.08.01|       jjtol2|https://lichess.o...|\n",
      "|   173|      900+3|    -|C44|    Rated Rapid game|    1410|      NULL|    1353|      Normal|             +7|King's Knight Ope...|1. e4 { [%eval 0....|             -7|            Joogy66|      NULL|2024.08.01|2024.08.01|essamchess123|https://lichess.o...|\n",
      "|   190|      180+0|    -|C50|    Rated Blitz game|    1724|      NULL|    1778|      Normal|             +4|Italian Game: Giu...|1. e4 { [%eval 0....|             -5|           khhs1981|      NULL|2024.08.01|2024.08.01|   dargon4432|https://lichess.o...|\n",
      "|   208|      180+2|    -|C78|    Rated Blitz game|    2521|      NULL|    2496|      Normal|             +6|Ruy Lopez: Morphy...|1. e4 { [%eval 0....|             -6|       Carcelario85|        FM|2024.08.01|2024.08.01| NorthernHawk|https://lichess.o...|\n",
      "|   209|      180+2|    -|B07|    Rated Blitz game|    1935|      NULL|    1956|Time forfeit|             -6|        Pirc Defense|1. e4 { [%eval 0....|             +6|           tiopujio|      NULL|2024.08.01|2024.08.01|  CleytonMaia|https://lichess.o...|\n",
      "+------+-----------+-----+---+--------------------+--------+----------+--------+------------+---------------+--------------------+--------------------+---------------+-------------------+----------+----------+----------+-------------+--------------------+\n",
      "only showing top 20 rows\n",
      "\n"
     ]
    },
    {
     "name": "stderr",
     "output_type": "stream",
     "text": [
      "                                                                                \r"
     ]
    }
   ],
   "source": [
    "# Pivot the DataFrame based on \"GameID\" and the specified columns\n",
    "pivot_games_df = (\n",
    "    games_df.groupBy(\"GameID\")\n",
    "    .pivot(\"Key\", col_list)\n",
    "    .agg(first(\"Value\"))\n",
    "    .orderBy(\"GameID\")\n",
    ")\n",
    "\n",
    "pivot_games_df = pivot_games_df.filter(col(\"Moves\").contains(\"%eval\"))\n",
    "pivot_games_df.show()"
   ]
  },
  {
   "cell_type": "code",
   "execution_count": 8,
   "metadata": {},
   "outputs": [
    {
     "name": "stderr",
     "output_type": "stream",
     "text": [
      "24/10/02 23:27:06 WARN WindowExec: No Partition Defined for Window operation! Moving all data to a single partition, this can cause serious performance degradation.\n",
      "24/10/02 23:27:06 WARN WindowExec: No Partition Defined for Window operation! Moving all data to a single partition, this can cause serious performance degradation.\n",
      "24/10/02 23:27:06 WARN WindowExec: No Partition Defined for Window operation! Moving all data to a single partition, this can cause serious performance degradation.\n",
      "24/10/02 23:27:06 WARN WindowExec: No Partition Defined for Window operation! Moving all data to a single partition, this can cause serious performance degradation.\n"
     ]
    },
    {
     "name": "stdout",
     "output_type": "stream",
     "text": [
      "+-----+\n",
      "|Round|\n",
      "+-----+\n",
      "|-    |\n",
      "+-----+\n",
      "\n"
     ]
    }
   ],
   "source": [
    "# Extract the \"Round\" column from the \"Moves\" column\n",
    "pivot_games_df.select(\"Round\").distinct().show(truncate=False)\n",
    "pivot_games_df = pivot_games_df.drop(\"Round\")"
   ]
  },
  {
   "cell_type": "code",
   "execution_count": 9,
   "metadata": {},
   "outputs": [
    {
     "name": "stderr",
     "output_type": "stream",
     "text": [
      "24/10/02 23:27:07 WARN WindowExec: No Partition Defined for Window operation! Moving all data to a single partition, this can cause serious performance degradation.\n",
      "24/10/02 23:27:07 WARN WindowExec: No Partition Defined for Window operation! Moving all data to a single partition, this can cause serious performance degradation.\n",
      "24/10/02 23:27:07 WARN WindowExec: No Partition Defined for Window operation! Moving all data to a single partition, this can cause serious performance degradation.\n",
      "24/10/02 23:27:07 WARN WindowExec: No Partition Defined for Window operation! Moving all data to a single partition, this can cause serious performance degradation.\n"
     ]
    },
    {
     "name": "stdout",
     "output_type": "stream",
     "text": [
      "+------+--------------------+\n",
      "|GameID|               Moves|\n",
      "+------+--------------------+\n",
      "|    65|1. Nf3 { [%eval 0...|\n",
      "|   367|1. d4 { [%eval 0....|\n",
      "|   130|1. e4 { [%eval 0....|\n",
      "|   262|1. e4 { [%eval 0....|\n",
      "|   325|1. d4 { [%eval 0....|\n",
      "|    50|1. e4 { [%eval 0....|\n",
      "|   110|1. d4 { [%eval 0....|\n",
      "|   190|1. e4 { [%eval 0....|\n",
      "|   275|1. e4 { [%eval 0....|\n",
      "|   395|1. e4 { [%eval 0....|\n",
      "|    71|1. d4 { [%eval 0....|\n",
      "|    58|1. e4 { [%eval 0....|\n",
      "|   447|1. b3 { [%eval 0....|\n",
      "|    52|1. e4 { [%eval 0....|\n",
      "|   209|1. e4 { [%eval 0....|\n",
      "|   208|1. e4 { [%eval 0....|\n",
      "|    89|1. e4 { [%eval 0....|\n",
      "|   411|1. e4 { [%eval 0....|\n",
      "|   142|1. f4 { [%eval -0...|\n",
      "|   132|1. e4 { [%eval 0....|\n",
      "+------+--------------------+\n",
      "only showing top 20 rows\n",
      "\n"
     ]
    }
   ],
   "source": [
    "# Select the \"GameID\" and \"Moves\" columns\n",
    "id_and_moves_df = pivot_games_df.select([\"GameID\", \"Moves\"]).repartition(\"GameID\")\n",
    "id_and_moves_df.show()"
   ]
  },
  {
   "cell_type": "code",
   "execution_count": 10,
   "metadata": {},
   "outputs": [],
   "source": [
    "# Define a UDF to parse the game moves and evaluations\n",
    "re_pattern = compile(\n",
    "    r\"'?(\\d+)\\.(\\w?\\-?\\w+\\!*?\\?*?\\!?)!?\\??\\{\\[%eval(-?\\d+\\.\\d+)\\[%clk(\\d+:\\d+:\\d+)\\}(\\d+)\\.{3}(\\w?\\-?\\w+\\!*?\\?*?\\!?)\\{\\[%eval(-?\\d+\\.\\d+)\\[%clk(\\d+:\\d+:\\d+)\\}(\\d-\\d)?'?\"\n",
    ")\n",
    "\n",
    "\n",
    "def parse_game_moves(game_string: str) -> list[Row]:\n",
    "    \"\"\"\n",
    "    Parse the game string to extract the moves and evaluations.\n",
    "\n",
    "    Args:\n",
    "    game_string: str\n",
    "        The string containing the game moves.\n",
    "\n",
    "    Returns:\n",
    "        list[Row]: The list of parsed moves and evaluations.\n",
    "    \"\"\"\n",
    "    no_spacing_games_string = game_string.replace(\" \", \"\")\n",
    "    try:\n",
    "        moves: list[str] = re_pattern.findall(no_spacing_games_string)\n",
    "    except Exception as e:\n",
    "        print(f\"Error applying regex into moves: {e}\")\n",
    "        return []\n",
    "\n",
    "    return [\n",
    "        Row(\n",
    "            WhiteMoveCount=int(move[0]) if move[0] else None,\n",
    "            WhiteMove=move[1] if move[1] else None,\n",
    "            WhiteEval=move[2] if move[2] else None,\n",
    "            WhiteTime=move[3] if move[3] else None,\n",
    "            BlackMoveCount=int(move[4]) if move[4] else None,\n",
    "            BlackMove=move[5] if move[5] else None,\n",
    "            BlackEval=move[6] if move[6] else None,\n",
    "            BlackTime=move[7] if move[7] else None,\n",
    "            Result=move[8] if move[8] else None,\n",
    "        )\n",
    "        for move in moves\n",
    "    ]"
   ]
  },
  {
   "cell_type": "code",
   "execution_count": 11,
   "metadata": {},
   "outputs": [
    {
     "name": "stderr",
     "output_type": "stream",
     "text": [
      "24/10/02 23:27:09 WARN WindowExec: No Partition Defined for Window operation! Moving all data to a single partition, this can cause serious performance degradation.\n",
      "24/10/02 23:27:09 WARN WindowExec: No Partition Defined for Window operation! Moving all data to a single partition, this can cause serious performance degradation.\n",
      "24/10/02 23:27:09 WARN WindowExec: No Partition Defined for Window operation! Moving all data to a single partition, this can cause serious performance degradation.\n",
      "24/10/02 23:27:09 WARN WindowExec: No Partition Defined for Window operation! Moving all data to a single partition, this can cause serious performance degradation.\n",
      "[Stage 25:>                                                         (0 + 1) / 1]\r"
     ]
    },
    {
     "name": "stdout",
     "output_type": "stream",
     "text": [
      "+------+--------------+---------+---------+---------+--------------+---------+---------+---------+------+\n",
      "|GameID|WhiteMoveCount|WhiteMove|WhiteEval|WhiteTime|BlackMoveCount|BlackMove|BlackEval|BlackTime|Result|\n",
      "+------+--------------+---------+---------+---------+--------------+---------+---------+---------+------+\n",
      "|    65|             1|      Nf3|     0.17|  0:03:00|             1|      Nf6|     0.22|  0:03:00|  NULL|\n",
      "|    65|             2|       g3|     0.11|  0:03:01|             2|       g6|     0.17|  0:03:02|  NULL|\n",
      "|    65|             3|       b3|    -0.01|  0:03:02|             3|      Bg7|     0.19|  0:03:04|  NULL|\n",
      "|    65|             4|      Bb2|     0.09|  0:03:03|             4|       d6|     0.14|  0:03:05|  NULL|\n",
      "|    65|             5|       d4|     0.08|  0:03:04|             5|      O-O|     0.21|  0:03:05|  NULL|\n",
      "|    65|             6|      Bg2|      0.2|  0:03:02|             6|      Bg4|     0.45|  0:03:05|  NULL|\n",
      "|    65|             7|     Nbd2|     0.33|  0:03:00|             7|       c6|     0.32|  0:03:06|  NULL|\n",
      "|    65|             8|      O-O|     0.36|  0:03:00|             8|      Qd7|      0.7|  0:03:07|  NULL|\n",
      "|    65|             9|       e4|     0.71|  0:02:56|             9|      Na6|     0.62|  0:03:08|  NULL|\n",
      "|    65|            10|      Re1|     0.73|  0:02:52|            10|      Nc7|     0.78|  0:03:08|  NULL|\n",
      "|    65|            11|       e5|     0.53|  0:02:51|            11|     Nfd5|     0.53|  0:03:00|  NULL|\n",
      "|    65|            12|       c4|     0.56|  0:02:46|            12|      Nb4|     0.61|  0:02:59|  NULL|\n",
      "|    65|            13|      Qe2|    -2.02|  0:02:40|            13|      Nc2|    -2.04|  0:02:58|  NULL|\n",
      "|    65|            14|      Ne4|    -2.21|  0:02:30|            14|     Nxe1|    -2.07|  0:02:56|  NULL|\n",
      "|    65|            15|     Rxe1|     -1.8|  0:02:29|            15|     Rae8|    -1.91|  0:02:41|   0-1|\n",
      "|   367|             1|       d4|     0.16|  0:01:00|             1|       d5|     0.23|  0:01:00|  NULL|\n",
      "|   367|             2|      Nc3|    -0.08|  0:00:59|             2|      Nc6|     0.16|  0:01:00|  NULL|\n",
      "|   367|             3|      Bf4|     0.15|  0:00:58|             3|       e6|     0.25|  0:00:57|  NULL|\n",
      "|   367|             4|       e3|     0.23|  0:00:58|             4|      Nf6|     0.29|  0:00:57|  NULL|\n",
      "|   367|             5|      Bb5|    -0.03|  0:00:57|             5|      Bd6|     0.11|  0:00:56|  NULL|\n",
      "+------+--------------+---------+---------+---------+--------------+---------+---------+---------+------+\n",
      "only showing top 20 rows\n",
      "\n"
     ]
    },
    {
     "name": "stderr",
     "output_type": "stream",
     "text": [
      "                                                                                \r"
     ]
    }
   ],
   "source": [
    "# Define the schema for the parsed moves\n",
    "schema = StructType(\n",
    "    [\n",
    "        StructField(\"WhiteMoveCount\", IntegerType(), True),\n",
    "        StructField(\"WhiteMove\", StringType(), True),\n",
    "        StructField(\"WhiteEval\", StringType(), True),\n",
    "        StructField(\"WhiteTime\", StringType(), True),\n",
    "        StructField(\"BlackMoveCount\", IntegerType(), True),\n",
    "        StructField(\"BlackMove\", StringType(), True),\n",
    "        StructField(\"BlackEval\", StringType(), True),\n",
    "        StructField(\"BlackTime\", StringType(), True),\n",
    "        StructField(\"Result\", StringType(), True),\n",
    "    ]\n",
    ")\n",
    "\n",
    "# UDF to parse game moves\n",
    "parse_game_moves_udf = udf(parse_game_moves, ArrayType(schema))\n",
    "\n",
    "# Apply UDF and explode the resulting array of structs\n",
    "parsed_moves_df = id_and_moves_df.withColumn(\n",
    "    \"ParsedMoves\", explode(parse_game_moves_udf(col(\"Moves\")))\n",
    ")\n",
    "\n",
    "# Select the necessary columns and add GameID\n",
    "normalized_moves_df = parsed_moves_df.select(\n",
    "    col(\"GameID\"),\n",
    "    col(\"ParsedMoves.WhiteMoveCount\"),\n",
    "    col(\"ParsedMoves.WhiteMove\"),\n",
    "    col(\"ParsedMoves.WhiteEval\"),\n",
    "    col(\"ParsedMoves.WhiteTime\"),\n",
    "    col(\"ParsedMoves.BlackMoveCount\"),\n",
    "    col(\"ParsedMoves.BlackMove\"),\n",
    "    col(\"ParsedMoves.BlackEval\"),\n",
    "    col(\"ParsedMoves.BlackTime\"),\n",
    "    col(\"ParsedMoves.Result\"),\n",
    ")\n",
    "\n",
    "normalized_moves_df.show()"
   ]
  },
  {
   "cell_type": "code",
   "execution_count": 12,
   "metadata": {},
   "outputs": [
    {
     "name": "stderr",
     "output_type": "stream",
     "text": [
      "24/10/02 23:27:11 WARN WindowExec: No Partition Defined for Window operation! Moving all data to a single partition, this can cause serious performance degradation.\n",
      "24/10/02 23:27:11 WARN WindowExec: No Partition Defined for Window operation! Moving all data to a single partition, this can cause serious performance degradation.\n",
      "24/10/02 23:27:12 WARN WindowExec: No Partition Defined for Window operation! Moving all data to a single partition, this can cause serious performance degradation.\n",
      "24/10/02 23:27:12 WARN WindowExec: No Partition Defined for Window operation! Moving all data to a single partition, this can cause serious performance degradation.\n",
      "24/10/02 23:27:14 WARN WindowExec: No Partition Defined for Window operation! Moving all data to a single partition, this can cause serious performance degradation.\n",
      "24/10/02 23:27:14 WARN WindowExec: No Partition Defined for Window operation! Moving all data to a single partition, this can cause serious performance degradation.\n",
      "24/10/02 23:27:15 WARN WindowExec: No Partition Defined for Window operation! Moving all data to a single partition, this can cause serious performance degradation.\n",
      "24/10/02 23:27:15 WARN WindowExec: No Partition Defined for Window operation! Moving all data to a single partition, this can cause serious performance degradation.\n"
     ]
    },
    {
     "name": "stdout",
     "output_type": "stream",
     "text": [
      "+--------------+---------+---------+---------+--------------+---------+---------+---------+------+------+\n",
      "|WhiteMoveCount|WhiteMove|WhiteEval|WhiteTime|BlackMoveCount|BlackMove|BlackEval|BlackTime|Result|GameID|\n",
      "+--------------+---------+---------+---------+--------------+---------+---------+---------+------+------+\n",
      "|             1|      Nf3|     0.17|  0:03:00|             1|      Nf6|     0.22|  0:03:00|  NULL|    65|\n",
      "|             2|       g3|     0.11|  0:03:01|             2|       g6|     0.17|  0:03:02|  NULL|   367|\n",
      "|             3|       b3|    -0.01|  0:03:02|             3|      Bg7|     0.19|  0:03:04|  NULL|   130|\n",
      "|             4|      Bb2|     0.09|  0:03:03|             4|       d6|     0.14|  0:03:05|  NULL|   262|\n",
      "|             5|       d4|     0.08|  0:03:04|             5|      O-O|     0.21|  0:03:05|  NULL|   325|\n",
      "|             6|      Bg2|      0.2|  0:03:02|             6|      Bg4|     0.45|  0:03:05|  NULL|    50|\n",
      "|             7|     Nbd2|     0.33|  0:03:00|             7|       c6|     0.32|  0:03:06|  NULL|   110|\n",
      "|             8|      O-O|     0.36|  0:03:00|             8|      Qd7|      0.7|  0:03:07|  NULL|   190|\n",
      "|             9|       e4|     0.71|  0:02:56|             9|      Na6|     0.62|  0:03:08|  NULL|   275|\n",
      "|            10|      Re1|     0.73|  0:02:52|            10|      Nc7|     0.78|  0:03:08|  NULL|   395|\n",
      "|            11|       e5|     0.53|  0:02:51|            11|     Nfd5|     0.53|  0:03:00|  NULL|    71|\n",
      "|            12|       c4|     0.56|  0:02:46|            12|      Nb4|     0.61|  0:02:59|  NULL|    58|\n",
      "|            13|      Qe2|    -2.02|  0:02:40|            13|      Nc2|    -2.04|  0:02:58|  NULL|   447|\n",
      "|            14|      Ne4|    -2.21|  0:02:30|            14|     Nxe1|    -2.07|  0:02:56|  NULL|    52|\n",
      "|            15|     Rxe1|     -1.8|  0:02:29|            15|     Rae8|    -1.91|  0:02:41|   0-1|   209|\n",
      "|             1|       d4|     0.16|  0:01:00|             1|       d5|     0.23|  0:01:00|  NULL|   208|\n",
      "|             2|      Nc3|    -0.08|  0:00:59|             2|      Nc6|     0.16|  0:01:00|  NULL|    89|\n",
      "|             3|      Bf4|     0.15|  0:00:58|             3|       e6|     0.25|  0:00:57|  NULL|   411|\n",
      "|             4|       e3|     0.23|  0:00:58|             4|      Nf6|     0.29|  0:00:57|  NULL|   142|\n",
      "|             5|      Bb5|    -0.03|  0:00:57|             5|      Bd6|     0.11|  0:00:56|  NULL|   132|\n",
      "+--------------+---------+---------+---------+--------------+---------+---------+---------+------+------+\n",
      "only showing top 20 rows\n",
      "\n"
     ]
    }
   ],
   "source": [
    "moves_values = id_and_moves_df.select(\"Moves\").rdd.flatMap(lambda x: x).collect()\n",
    "parsed_moves_rows = [parse_game_moves(move) for move in moves_values]\n",
    "normalized_moves_df = spark.createDataFrame(\n",
    "    data=[move for moves in parsed_moves_rows for move in moves],\n",
    "    schema=\"WhiteMoveCount INT, WhiteMove STRING, WhiteEval STRING, WhiteTime STRING, BlackMoveCount INT, BlackMove STRING, BlackEval STRING, BlackTime STRING, Result STRING\",\n",
    ")\n",
    "\n",
    "# temporary variable\n",
    "normalized_moves_df = normalized_moves_df.withColumn(\n",
    "    \"row_num\", monotonically_increasing_id()\n",
    ")\n",
    "\n",
    "# temporary variable\n",
    "game_id_df = id_and_moves_df.select(\"GameID\").withColumn(\n",
    "    \"row_num\", monotonically_increasing_id()\n",
    ")\n",
    "\n",
    "# Join the DataFrames on the \"row_num\" column and drop the \"row_num\" column\n",
    "normalized_moves_df = normalized_moves_df.join(game_id_df, \"row_num\", \"left\").drop(\n",
    "    \"row_num\"\n",
    ")\n",
    "\n",
    "normalized_moves_df.show()"
   ]
  },
  {
   "cell_type": "code",
   "execution_count": 13,
   "metadata": {},
   "outputs": [
    {
     "name": "stderr",
     "output_type": "stream",
     "text": [
      "24/10/02 23:27:17 WARN WindowExec: No Partition Defined for Window operation! Moving all data to a single partition, this can cause serious performance degradation.\n",
      "24/10/02 23:27:17 WARN WindowExec: No Partition Defined for Window operation! Moving all data to a single partition, this can cause serious performance degradation.\n",
      "24/10/02 23:27:17 WARN WindowExec: No Partition Defined for Window operation! Moving all data to a single partition, this can cause serious performance degradation.\n",
      "24/10/02 23:27:17 WARN WindowExec: No Partition Defined for Window operation! Moving all data to a single partition, this can cause serious performance degradation.\n"
     ]
    },
    {
     "name": "stdout",
     "output_type": "stream",
     "text": [
      "+--------------+---------+---------+---------+--------------+---------+---------+---------+------+------+\n",
      "|WhiteMoveCount|WhiteMove|WhiteEval|WhiteTime|BlackMoveCount|BlackMove|BlackEval|BlackTime|Result|GameID|\n",
      "+--------------+---------+---------+---------+--------------+---------+---------+---------+------+------+\n",
      "|             1|      Nf3|     0.17|  0:03:00|             1|      Nf6|     0.22|  0:03:00|  NULL|    65|\n",
      "|             2|       g3|     0.11|  0:03:01|             2|       g6|     0.17|  0:03:02|  NULL|   367|\n",
      "|             3|       b3|    -0.01|  0:03:02|             3|      Bg7|     0.19|  0:03:04|  NULL|   130|\n",
      "|             4|      Bb2|     0.09|  0:03:03|             4|       d6|     0.14|  0:03:05|  NULL|   262|\n",
      "|             5|       d4|     0.08|  0:03:04|             5|      O-O|     0.21|  0:03:05|  NULL|   325|\n",
      "|             6|      Bg2|      0.2|  0:03:02|             6|      Bg4|     0.45|  0:03:05|  NULL|    50|\n",
      "|             7|     Nbd2|     0.33|  0:03:00|             7|       c6|     0.32|  0:03:06|  NULL|   110|\n",
      "|             8|      O-O|     0.36|  0:03:00|             8|      Qd7|      0.7|  0:03:07|  NULL|   190|\n",
      "|             9|       e4|     0.71|  0:02:56|             9|      Na6|     0.62|  0:03:08|  NULL|   275|\n",
      "|            10|      Re1|     0.73|  0:02:52|            10|      Nc7|     0.78|  0:03:08|  NULL|   395|\n",
      "|            11|       e5|     0.53|  0:02:51|            11|     Nfd5|     0.53|  0:03:00|  NULL|    71|\n",
      "|            12|       c4|     0.56|  0:02:46|            12|      Nb4|     0.61|  0:02:59|  NULL|    58|\n",
      "|            13|      Qe2|    -2.02|  0:02:40|            13|      Nc2|    -2.04|  0:02:58|  NULL|   447|\n",
      "|            14|      Ne4|    -2.21|  0:02:30|            14|     Nxe1|    -2.07|  0:02:56|  NULL|    52|\n",
      "|            15|     Rxe1|     -1.8|  0:02:29|            15|     Rae8|    -1.91|  0:02:41|   0-1|   209|\n",
      "|             1|       d4|     0.16|  0:01:00|             1|       d5|     0.23|  0:01:00|  NULL|   208|\n",
      "|             2|      Nc3|    -0.08|  0:00:59|             2|      Nc6|     0.16|  0:01:00|  NULL|    89|\n",
      "|             3|      Bf4|     0.15|  0:00:58|             3|       e6|     0.25|  0:00:57|  NULL|   411|\n",
      "|             4|       e3|     0.23|  0:00:58|             4|      Nf6|     0.29|  0:00:57|  NULL|   142|\n",
      "|             5|      Bb5|    -0.03|  0:00:57|             5|      Bd6|     0.11|  0:00:56|  NULL|   132|\n",
      "+--------------+---------+---------+---------+--------------+---------+---------+---------+------+------+\n",
      "only showing top 20 rows\n",
      "\n"
     ]
    }
   ],
   "source": [
    "normalized_moves_df = normalized_moves_df.withColumn(\n",
    "    \"Result\",\n",
    "    when(\n",
    "        (col(\"Result\").isNull())\n",
    "        & (col(\"WhiteMove\").contains(\"-\"))\n",
    "        & (col(\"BlackMove\").rlike(r\"-\")),\n",
    "        coalesce(col(\"WhiteMove\"), col(\"BlackMove\")),\n",
    "    ).otherwise(col(\"Result\")),\n",
    ")\n",
    "\n",
    "normalized_moves_df.show()"
   ]
  },
  {
   "cell_type": "markdown",
   "metadata": {},
   "source": [
    "## Ingestion back into S3 "
   ]
  },
  {
   "cell_type": "code",
   "execution_count": 14,
   "metadata": {},
   "outputs": [
    {
     "name": "stderr",
     "output_type": "stream",
     "text": [
      "24/10/02 23:27:19 WARN MetricsConfig: Cannot locate configuration: tried hadoop-metrics2-s3a-file-system.properties,hadoop-metrics2.properties\n",
      "24/10/02 23:27:21 WARN WindowExec: No Partition Defined for Window operation! Moving all data to a single partition, this can cause serious performance degradation.\n",
      "24/10/02 23:27:21 WARN WindowExec: No Partition Defined for Window operation! Moving all data to a single partition, this can cause serious performance degradation.\n",
      "24/10/02 23:27:22 WARN WindowExec: No Partition Defined for Window operation! Moving all data to a single partition, this can cause serious performance degradation.\n",
      "24/10/02 23:27:22 WARN WindowExec: No Partition Defined for Window operation! Moving all data to a single partition, this can cause serious performance degradation.\n",
      "24/10/02 23:27:31 WARN MemoryManager: Total allocation exceeds 95.00% (1,020,054,720 bytes) of heap memory\n",
      "Scaling row group sizes to 95.00% for 8 writers\n",
      "                                                                                \r"
     ]
    }
   ],
   "source": [
    "try:\n",
    "    s3_bucket.load_games_to_s3(normalized_moves_df, \"moves_df\")\n",
    "except Exception as e:\n",
    "    print(e)"
   ]
  },
  {
   "cell_type": "code",
   "execution_count": 15,
   "metadata": {},
   "outputs": [],
   "source": [
    "filtered_pivot_games_df = pivot_games_df.drop(\"Moves\")"
   ]
  },
  {
   "cell_type": "code",
   "execution_count": 16,
   "metadata": {},
   "outputs": [
    {
     "name": "stderr",
     "output_type": "stream",
     "text": [
      "24/10/02 23:28:39 WARN WindowExec: No Partition Defined for Window operation! Moving all data to a single partition, this can cause serious performance degradation.\n",
      "24/10/02 23:28:39 WARN WindowExec: No Partition Defined for Window operation! Moving all data to a single partition, this can cause serious performance degradation.\n",
      "24/10/02 23:28:40 WARN WindowExec: No Partition Defined for Window operation! Moving all data to a single partition, this can cause serious performance degradation.\n",
      "24/10/02 23:28:40 WARN WindowExec: No Partition Defined for Window operation! Moving all data to a single partition, this can cause serious performance degradation.\n",
      "                                                                                \r"
     ]
    }
   ],
   "source": [
    "try:\n",
    "    s3_bucket.load_games_to_s3(filtered_pivot_games_df, \"games_df\")\n",
    "except Exception as e:\n",
    "    print(e)"
   ]
  },
  {
   "cell_type": "code",
   "execution_count": 17,
   "metadata": {},
   "outputs": [],
   "source": [
    "spark.stop()"
   ]
  }
 ],
 "metadata": {
  "kernelspec": {
   "display_name": ".venv",
   "language": "python",
   "name": "python3"
  },
  "language_info": {
   "codemirror_mode": {
    "name": "ipython",
    "version": 3
   },
   "file_extension": ".py",
   "mimetype": "text/x-python",
   "name": "python",
   "nbconvert_exporter": "python",
   "pygments_lexer": "ipython3",
   "version": "3.12.0"
  }
 },
 "nbformat": 4,
 "nbformat_minor": 2
}
