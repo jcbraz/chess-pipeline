{
 "cells": [
  {
   "cell_type": "code",
   "execution_count": 98,
   "metadata": {},
   "outputs": [],
   "source": [
    "import os\n",
    "from re import compile\n",
    "from loaders.load_games_from_s3 import LoaderGamesFromS3\n",
    "from pyspark.sql import DataFrame, SparkSession, Row\n",
    "from pyspark.sql.functions import (\n",
    "    monotonically_increasing_id,\n",
    "    regexp_extract,\n",
    "    when,\n",
    "    col,\n",
    "    lit,\n",
    "    regexp_replace,\n",
    "    first,\n",
    "    coalesce,\n",
    "    sum,\n",
    "    explode,\n",
    "    udf\n",
    ")\n",
    "from pyspark.sql.window import Window\n",
    "from pyspark.sql.types import (\n",
    "    StructType,\n",
    "    StructField,\n",
    "    StringType,\n",
    "    IntegerType,\n",
    "    TimestampType,\n",
    "    ArrayType\n",
    ")\n",
    "\n",
    "from delta import *\n",
    "\n",
    "development_phase_flag = 'development'"
   ]
  },
  {
   "cell_type": "code",
   "execution_count": 99,
   "metadata": {},
   "outputs": [],
   "source": [
    "builder = (\n",
    "    SparkSession.builder.appName(\"LoadGamesFromS3\")\n",
    "    .config(\"spark.sql.extensions\", \"io.delta.sql.DeltaSparkSessionExtension\")\n",
    "    .config(\n",
    "        \"spark.sql.catalog.spark_catalog\",\n",
    "        \"org.apache.spark.sql.delta.catalog.DeltaCatalog\",\n",
    "    )\n",
    "    .config(\"spark.sql.shuffle.partitions\", \"1\")\n",
    ")\n",
    "\n",
    "spark = configure_spark_with_delta_pip(builder).getOrCreate()"
   ]
  },
  {
   "cell_type": "code",
   "execution_count": 100,
   "metadata": {},
   "outputs": [
    {
     "name": "stdout",
     "output_type": "stream",
     "text": [
      "+--------------------+\n",
      "|               value|\n",
      "+--------------------+\n",
      "|[Event Rated Bull...|\n",
      "|[Site https://lic...|\n",
      "|   [Date 2024.08.01]|\n",
      "|           [Round -]|\n",
      "|[White kingskreamer]|\n",
      "| [Black mysteryvabs]|\n",
      "|[UTCDate 2024.08.01]|\n",
      "|     [WhiteElo 2148]|\n",
      "|     [BlackElo 2155]|\n",
      "|[WhiteRatingDiff +6]|\n",
      "|[BlackRatingDiff -6]|\n",
      "|           [ECO B10]|\n",
      "|[Opening Caro-Kan...|\n",
      "|  [TimeControl 60+0]|\n",
      "|[Termination Time...|\n",
      "|1. e4 { [%clk 0:0...|\n",
      "|[Event Rated Bull...|\n",
      "|[Site https://lic...|\n",
      "|   [Date 2024.08.01]|\n",
      "|           [Round -]|\n",
      "+--------------------+\n",
      "only showing top 20 rows\n",
      "\n"
     ]
    }
   ],
   "source": [
    "# read csv from data dir\n",
    "if development_phase_flag == \"development\":\n",
    "    games_df: DataFrame = (\n",
    "        spark.read.csv(\"../data/sample_games.csv\", header=True)\n",
    "        .filter(\n",
    "            (col(\"value\") != \"\")\n",
    "            & (~col(\"value\").like(\"%UTCTime%\"))\n",
    "            & (~col(\"value\").like(\"%Result%\"))\n",
    "        )\n",
    "        .withColumn(\"value\", regexp_replace(\"value\", '\"', \"\"))\n",
    "        .drop(\"_c0\")\n",
    "    )\n",
    "\n",
    "    games_df.show()\n",
    "else:\n",
    "    s3_bucket = LoaderGamesFromS3(\n",
    "        object_key=\"lichess_standard_rated_2024-08.pgn.zst\",\n",
    "        bucket_name=\"chess-pipeline\",\n",
    "        endpoint=\"https://s3.cubbit.eu\",\n",
    "        region=\"eu-west-1\",\n",
    "    )\n",
    "\n",
    "    games_df = (\n",
    "        s3_bucket.load_games_dataframe_from_s3()\n",
    "        .filter(\n",
    "            (col(\"value\") != \"\")\n",
    "            & (~col(\"value\").like(\"%UTCTime%\"))\n",
    "            & (~col(\"value\").like(\"%Result%\"))\n",
    "        )\n",
    "        .withColumn(\"value\", regexp_replace(\"value\", '\"', \"\"))\n",
    "        .drop(\"_c0\")\n",
    "    )"
   ]
  },
  {
   "cell_type": "code",
   "execution_count": 101,
   "metadata": {},
   "outputs": [
    {
     "name": "stderr",
     "output_type": "stream",
     "text": [
      "24/09/18 22:24:25 WARN WindowExec: No Partition Defined for Window operation! Moving all data to a single partition, this can cause serious performance degradation.\n",
      "24/09/18 22:24:25 WARN WindowExec: No Partition Defined for Window operation! Moving all data to a single partition, this can cause serious performance degradation.\n",
      "24/09/18 22:24:25 WARN WindowExec: No Partition Defined for Window operation! Moving all data to a single partition, this can cause serious performance degradation.\n",
      "24/09/18 22:24:26 WARN WindowExec: No Partition Defined for Window operation! Moving all data to a single partition, this can cause serious performance degradation.\n",
      "24/09/18 22:24:26 WARN WindowExec: No Partition Defined for Window operation! Moving all data to a single partition, this can cause serious performance degradation.\n"
     ]
    },
    {
     "name": "stdout",
     "output_type": "stream",
     "text": [
      "+--------------------+---------------+--------------------+-----------+------+\n",
      "|                Line|            Key|               Value|StartOfGame|GameID|\n",
      "+--------------------+---------------+--------------------+-----------+------+\n",
      "|[Event Rated Bull...|          Event|   Rated Bullet game|          1|     1|\n",
      "|[Site https://lic...|           Site|https://lichess.o...|          0|     1|\n",
      "|   [Date 2024.08.01]|           Date|          2024.08.01|          0|     1|\n",
      "|           [Round -]|          Round|                   -|          0|     1|\n",
      "|[White kingskreamer]|          White|        kingskreamer|          0|     1|\n",
      "| [Black mysteryvabs]|          Black|         mysteryvabs|          0|     1|\n",
      "|[UTCDate 2024.08.01]|        UTCDate|          2024.08.01|          0|     1|\n",
      "|     [WhiteElo 2148]|       WhiteElo|                2148|          0|     1|\n",
      "|     [BlackElo 2155]|       BlackElo|                2155|          0|     1|\n",
      "|[WhiteRatingDiff +6]|WhiteRatingDiff|                  +6|          0|     1|\n",
      "|[BlackRatingDiff -6]|BlackRatingDiff|                  -6|          0|     1|\n",
      "|           [ECO B10]|            ECO|                 B10|          0|     1|\n",
      "|[Opening Caro-Kan...|        Opening|Caro-Kann Defense...|          0|     1|\n",
      "|  [TimeControl 60+0]|    TimeControl|                60+0|          0|     1|\n",
      "|[Termination Time...|    Termination|        Time forfeit|          0|     1|\n",
      "|1. e4 { [%clk 0:0...|          Moves|1. e4 { [%clk 0:0...|          0|     1|\n",
      "|[Event Rated Bull...|          Event|   Rated Bullet game|          1|     2|\n",
      "|[Site https://lic...|           Site|https://lichess.o...|          0|     2|\n",
      "|   [Date 2024.08.01]|           Date|          2024.08.01|          0|     2|\n",
      "|           [Round -]|          Round|                   -|          0|     2|\n",
      "+--------------------+---------------+--------------------+-----------+------+\n",
      "only showing top 20 rows\n",
      "\n"
     ]
    },
    {
     "name": "stderr",
     "output_type": "stream",
     "text": [
      "                                                                                \r"
     ]
    }
   ],
   "source": [
    "# Rename the \"value\" column to \"Line\"\n",
    "games_df = games_df.withColumnRenamed(\"value\", \"Line\")\n",
    "\n",
    "\n",
    "# Extract the \"Key\" and \"Value\" columns based on the structure of the \"Line\" column\n",
    "games_df = (\n",
    "    games_df.withColumn(\n",
    "        \"Key\",\n",
    "        when(col(\"Line\").startswith(\"1.\"), \"Moves\").otherwise(\n",
    "            regexp_extract(col(\"Line\"), r\"\\[(.*?)\\s\", 1)\n",
    "        ),\n",
    "    )\n",
    "    .withColumn(\n",
    "        \"Value\",\n",
    "        when(col(\"Line\").startswith(\"1.\"), col(\"Line\")).otherwise(\n",
    "            regexp_replace(col(\"Line\"), r\"\\[\\w+\\s\", \"\"),\n",
    "        ),\n",
    "    )\n",
    "    .withColumn(\"Value\", regexp_replace(col(\"Value\"), r\"\\]\", \"\"))\n",
    ")\n",
    "\n",
    "# Add a column to identify the start of a game\n",
    "games_df = games_df.withColumn(\n",
    "    \"StartOfGame\", when(col(\"Line\").startswith(\"[Event\"), 1).otherwise(lit(0))\n",
    ")\n",
    "\n",
    "# Define a window specification for calculating the cumulative sum\n",
    "windowSpec = Window.orderBy(monotonically_increasing_id())\n",
    "\n",
    "# Calculate the cumulative sum of \"StartOfGame\" to create \"GameID\"\n",
    "games_df = games_df.withColumn(\"GameID\", sum(col(\"StartOfGame\")).over(windowSpec))\n",
    "\n",
    "games_df.show()"
   ]
  },
  {
   "cell_type": "code",
   "execution_count": 102,
   "metadata": {},
   "outputs": [
    {
     "data": {
      "text/plain": [
       "['Event',\n",
       " 'Site',\n",
       " 'Date',\n",
       " 'Round',\n",
       " 'White',\n",
       " 'Black',\n",
       " 'UTCDate',\n",
       " 'WhiteElo',\n",
       " 'BlackElo',\n",
       " 'WhiteRatingDiff',\n",
       " 'BlackRatingDiff',\n",
       " 'ECO',\n",
       " 'Opening',\n",
       " 'TimeControl',\n",
       " 'Termination',\n",
       " 'Moves',\n",
       " 'WhiteTitle',\n",
       " 'BlackTitle']"
      ]
     },
     "execution_count": 102,
     "metadata": {},
     "output_type": "execute_result"
    }
   ],
   "source": [
    "col_list = (\n",
    "    games_df.select(\"Key\")\n",
    "    .distinct()\n",
    "    .filter(col(\"Key\") != \"\")\n",
    "    .toPandas()[\"Key\"]\n",
    "    .tolist()\n",
    ")\n",
    "\n",
    "col_list"
   ]
  },
  {
   "cell_type": "code",
   "execution_count": 103,
   "metadata": {},
   "outputs": [
    {
     "data": {
      "text/plain": [
       "['Event',\n",
       " 'Site',\n",
       " 'Date',\n",
       " 'Round',\n",
       " 'White',\n",
       " 'Black',\n",
       " 'UTCDate',\n",
       " 'WhiteElo',\n",
       " 'BlackElo',\n",
       " 'WhiteRatingDiff',\n",
       " 'BlackRatingDiff',\n",
       " 'ECO',\n",
       " 'Opening',\n",
       " 'TimeControl',\n",
       " 'Termination',\n",
       " 'Moves',\n",
       " 'WhiteTitle',\n",
       " 'BlackTitle']"
      ]
     },
     "execution_count": 103,
     "metadata": {},
     "output_type": "execute_result"
    }
   ],
   "source": [
    "col_list = (\n",
    "    games_df.select(\"Key\")\n",
    "    .groupBy(\"Key\").count()\n",
    "    .filter(col(\"Key\") != \"\")\n",
    "    .toPandas()[\"Key\"]\n",
    "    .tolist()\n",
    ")\n",
    "\n",
    "col_list"
   ]
  },
  {
   "cell_type": "code",
   "execution_count": 104,
   "metadata": {},
   "outputs": [
    {
     "name": "stderr",
     "output_type": "stream",
     "text": [
      "24/09/18 22:24:30 WARN WindowExec: No Partition Defined for Window operation! Moving all data to a single partition, this can cause serious performance degradation.\n",
      "24/09/18 22:24:30 WARN WindowExec: No Partition Defined for Window operation! Moving all data to a single partition, this can cause serious performance degradation.\n",
      "24/09/18 22:24:31 WARN WindowExec: No Partition Defined for Window operation! Moving all data to a single partition, this can cause serious performance degradation.\n",
      "24/09/18 22:24:31 WARN WindowExec: No Partition Defined for Window operation! Moving all data to a single partition, this can cause serious performance degradation.\n"
     ]
    },
    {
     "name": "stdout",
     "output_type": "stream",
     "text": [
      "+------+--------------------+--------------------+----------+-----+-------------------+-------------+----------+--------+--------+---------------+---------------+---+--------------------+-----------+------------+--------------------+----------+----------+\n",
      "|GameID|               Event|                Site|      Date|Round|              White|        Black|   UTCDate|WhiteElo|BlackElo|WhiteRatingDiff|BlackRatingDiff|ECO|             Opening|TimeControl| Termination|               Moves|WhiteTitle|BlackTitle|\n",
      "+------+--------------------+--------------------+----------+-----+-------------------+-------------+----------+--------+--------+---------------+---------------+---+--------------------+-----------+------------+--------------------+----------+----------+\n",
      "|    40|Rated Blitz tourn...|https://lichess.o...|2024.08.01|    -|      TenderBeastXL|    G_Capella|2024.08.01|    1845|    1888|             +7|             -7|B50|Sicilian Defense:...|      180+2|      Normal|1. e4 { [%eval 0....|      NULL|      NULL|\n",
      "|    50|Rated Rapid tourn...|https://lichess.o...|2024.08.01|    -|        SathvikVadi|  shouryasagi|2024.08.01|     765|     904|            +23|            -20|C20|King's Pawn Game:...|      600+2|      Normal|1. e4 { [%eval 0....|      NULL|      NULL|\n",
      "|    52|   Rated Bullet game|https://lichess.o...|2024.08.01|    -|         HomayooonT|  Fandorine96|2024.08.01|    3021|    3010|             +6|             -5|B40|Sicilian Defense:...|       60+0|      Normal|1. e4 { [%eval 0....|        GM|        GM|\n",
      "|    58|    Rated Blitz game|https://lichess.o...|2024.08.01|    -|         RedSword69|      Avov-59|2024.08.01|    1764|    1791|             -5|             +5|C44|Scotch Game: Göri...|      180+2|      Normal|1. e4 { [%eval 0....|      NULL|      NULL|\n",
      "|    61|    Rated Blitz game|https://lichess.o...|2024.08.01|    -|         Aslanbey21|robotikempire|2024.08.01|    1893|    1821|             +5|             -5|D30|Queen's Gambit De...|      180+2|      Normal|1. d4 { [%eval 0....|      NULL|      NULL|\n",
      "|    65|    Rated Blitz game|https://lichess.o...|2024.08.01|    -|         P1ckn1cker|  abnermorana|2024.08.01|    1933|    1942|             -6|             +6|A05|King's Indian Att...|      180+2|      Normal|1. Nf3 { [%eval 0...|      NULL|      NULL|\n",
      "|    71|    Rated Blitz game|https://lichess.o...|2024.08.01|    -|         Analgesico|CABallero2001|2024.08.01|    2028|    2049|             +6|             -6|D02|Queen's Pawn Game...|      180+0|      Normal|1. d4 { [%eval 0....|      NULL|      NULL|\n",
      "|    83|    Rated Blitz game|https://lichess.o...|2024.08.01|    -| RhonCorsino_NSamar|         J33E|2024.08.01|    2006|    1966|             -6|             +6|B01|Scandinavian Defe...|      180+0|      Normal|1. e4 { [%eval 0....|      NULL|      NULL|\n",
      "|    89|    Rated Rapid game|https://lichess.o...|2024.08.01|    -|             ssimbu|     FPaiva_1|2024.08.01|    2092|    2060|             -7|             +7|C20|King's Pawn Game:...|      600+0|      Normal|1. e4 { [%eval 0....|      NULL|      NULL|\n",
      "|    91|    Rated Rapid game|https://lichess.o...|2024.08.01|    -|        mraeisi1401| andponkratov|2024.08.01|    1552|    1488|            -17|             +7|C42|        Russian Game|      600+0|      Normal|1. e4 { [%eval 0....|      NULL|      NULL|\n",
      "|   110|    Rated Blitz game|https://lichess.o...|2024.08.01|    -|           MKenarok|rommel_lucion|2024.08.01|    2230|    2257|             -5|             +5|D43|   Semi-Slav Defense|      300+0|Time forfeit|1. d4 { [%eval 0....|      NULL|      NULL|\n",
      "|   123|   Rated Bullet game|https://lichess.o...|2024.08.01|    -|         HMarkhank2|      lim5070|2024.08.01|    1056|    1144|             +6|            -83|A46|Queen's Pawn Game...|       60+0|Time forfeit|1. d4 { [%eval 0....|      NULL|      NULL|\n",
      "|   130|    Rated Blitz game|https://lichess.o...|2024.08.01|    -|ASalmonWithAttitude|    BugraAyhn|2024.08.01|    1659|    1562|            +14|             -4|C25|Vienna Game: Max ...|      180+2|      Normal|1. e4 { [%eval 0....|      NULL|      NULL|\n",
      "|   132|    Rated Blitz game|https://lichess.o...|2024.08.01|    -|        chessgunnus|   rps-santos|2024.08.01|    1593|    1779|             -3|            +11|B06|      Modern Defense|      180+0|Time forfeit|1. e4 { [%eval 0....|      NULL|      NULL|\n",
      "|   142|    Rated Blitz game|https://lichess.o...|2024.08.01|    -|       andresvaldez|  white_major|2024.08.01|    1195|    1086|            +52|             -3|A03|Bird Opening: Dut...|      300+0|      Normal|1. f4 { [%eval -0...|      NULL|      NULL|\n",
      "|   154|    Rated Rapid game|https://lichess.o...|2024.08.01|    -|        c0nsigL1eRe|       jjtol2|2024.08.01|    1673|    1678|             -6|             +6|D00|Queen's Pawn Game...|      600+5|      Normal|1. d4 { [%eval 0....|      NULL|      NULL|\n",
      "|   173|    Rated Rapid game|https://lichess.o...|2024.08.01|    -|            Joogy66|essamchess123|2024.08.01|    1410|    1353|             -7|             +7|C44|King's Knight Ope...|      900+3|      Normal|1. e4 { [%eval 0....|      NULL|      NULL|\n",
      "|   190|    Rated Blitz game|https://lichess.o...|2024.08.01|    -|           khhs1981|   dargon4432|2024.08.01|    1724|    1778|             -5|             +4|C50|Italian Game: Giu...|      180+0|      Normal|1. e4 { [%eval 0....|      NULL|      NULL|\n",
      "|   208|    Rated Blitz game|https://lichess.o...|2024.08.01|    -|       Carcelario85| NorthernHawk|2024.08.01|    2521|    2496|             -6|             +6|C78|Ruy Lopez: Morphy...|      180+2|      Normal|1. e4 { [%eval 0....|      NULL|        FM|\n",
      "|   209|    Rated Blitz game|https://lichess.o...|2024.08.01|    -|           tiopujio|  CleytonMaia|2024.08.01|    1935|    1956|             +6|             -6|B07|        Pirc Defense|      180+2|Time forfeit|1. e4 { [%eval 0....|      NULL|      NULL|\n",
      "+------+--------------------+--------------------+----------+-----+-------------------+-------------+----------+--------+--------+---------------+---------------+---+--------------------+-----------+------------+--------------------+----------+----------+\n",
      "only showing top 20 rows\n",
      "\n"
     ]
    }
   ],
   "source": [
    "# Pivot the DataFrame based on \"GameID\" and the specified columns\n",
    "pivot_games_df = (\n",
    "    games_df.groupBy(\"GameID\")\n",
    "    .pivot(\"Key\", col_list)\n",
    "    .agg(first(\"Value\"))\n",
    "    .orderBy(\"GameID\")\n",
    ")\n",
    "\n",
    "pivot_games_df = pivot_games_df.filter(col(\"Moves\").contains(\"%eval\"))\n",
    "pivot_games_df.show()"
   ]
  },
  {
   "cell_type": "code",
   "execution_count": 105,
   "metadata": {},
   "outputs": [
    {
     "name": "stderr",
     "output_type": "stream",
     "text": [
      "24/09/18 22:24:33 WARN WindowExec: No Partition Defined for Window operation! Moving all data to a single partition, this can cause serious performance degradation.\n",
      "24/09/18 22:24:33 WARN WindowExec: No Partition Defined for Window operation! Moving all data to a single partition, this can cause serious performance degradation.\n",
      "24/09/18 22:24:34 WARN WindowExec: No Partition Defined for Window operation! Moving all data to a single partition, this can cause serious performance degradation.\n",
      "24/09/18 22:24:34 WARN WindowExec: No Partition Defined for Window operation! Moving all data to a single partition, this can cause serious performance degradation.\n"
     ]
    },
    {
     "name": "stdout",
     "output_type": "stream",
     "text": [
      "+-----+\n",
      "|Round|\n",
      "+-----+\n",
      "|-    |\n",
      "+-----+\n",
      "\n"
     ]
    }
   ],
   "source": [
    "pivot_games_df.select(\"Round\").distinct().show(truncate=False)\n",
    "pivot_games_df = pivot_games_df.drop(\"Round\")"
   ]
  },
  {
   "cell_type": "code",
   "execution_count": 106,
   "metadata": {},
   "outputs": [
    {
     "name": "stderr",
     "output_type": "stream",
     "text": [
      "24/09/18 22:24:34 WARN WindowExec: No Partition Defined for Window operation! Moving all data to a single partition, this can cause serious performance degradation.\n",
      "24/09/18 22:24:34 WARN WindowExec: No Partition Defined for Window operation! Moving all data to a single partition, this can cause serious performance degradation.\n",
      "24/09/18 22:24:35 WARN WindowExec: No Partition Defined for Window operation! Moving all data to a single partition, this can cause serious performance degradation.\n",
      "24/09/18 22:24:35 WARN WindowExec: No Partition Defined for Window operation! Moving all data to a single partition, this can cause serious performance degradation.\n"
     ]
    },
    {
     "name": "stdout",
     "output_type": "stream",
     "text": [
      "+------+--------------------+\n",
      "|GameID|               Moves|\n",
      "+------+--------------------+\n",
      "|    40|1. e4 { [%eval 0....|\n",
      "|    50|1. e4 { [%eval 0....|\n",
      "|    52|1. e4 { [%eval 0....|\n",
      "|    58|1. e4 { [%eval 0....|\n",
      "|    61|1. d4 { [%eval 0....|\n",
      "|    65|1. Nf3 { [%eval 0...|\n",
      "|    71|1. d4 { [%eval 0....|\n",
      "|    83|1. e4 { [%eval 0....|\n",
      "|    89|1. e4 { [%eval 0....|\n",
      "|    91|1. e4 { [%eval 0....|\n",
      "|   110|1. d4 { [%eval 0....|\n",
      "|   123|1. d4 { [%eval 0....|\n",
      "|   130|1. e4 { [%eval 0....|\n",
      "|   132|1. e4 { [%eval 0....|\n",
      "|   142|1. f4 { [%eval -0...|\n",
      "|   154|1. d4 { [%eval 0....|\n",
      "|   173|1. e4 { [%eval 0....|\n",
      "|   190|1. e4 { [%eval 0....|\n",
      "|   208|1. e4 { [%eval 0....|\n",
      "|   209|1. e4 { [%eval 0....|\n",
      "+------+--------------------+\n",
      "only showing top 20 rows\n",
      "\n"
     ]
    }
   ],
   "source": [
    "id_and_moves_df = pivot_games_df.select([\"GameID\", \"Moves\"]).repartition(\"GameID\")\n",
    "id_and_moves_df.show()"
   ]
  },
  {
   "cell_type": "markdown",
   "metadata": {},
   "source": [
    "## Data Warehouse"
   ]
  },
  {
   "cell_type": "code",
   "execution_count": 107,
   "metadata": {},
   "outputs": [],
   "source": [
    "re_pattern = compile(\n",
    "    r\"'?(\\d+)\\.(\\w?\\-?\\w+\\!*?\\?*?\\!?)!?\\??\\{\\[%eval(-?\\d+\\.\\d+)\\[%clk(\\d+:\\d+:\\d+)\\}(\\d+)\\.{3}(\\w?\\-?\\w+\\!*?\\?*?\\!?)\\{\\[%eval(-?\\d+\\.\\d+)\\[%clk(\\d+:\\d+:\\d+)\\}(\\d-\\d)?'?\"\n",
    ")\n",
    "\n",
    "\n",
    "def parse_game_moves(game_string: str) -> list[Row]:\n",
    "    \"\"\"\n",
    "    Parse the game string to extract the moves and evaluations.\n",
    "\n",
    "    Args:\n",
    "    game_string: str\n",
    "        The string containing the game moves.\n",
    "\n",
    "    Returns:\n",
    "        list[Row]: The list of parsed moves and evaluations.\n",
    "    \"\"\"\n",
    "    no_spacing_games_string = game_string.replace(\" \", \"\")\n",
    "    try:\n",
    "        moves: list[str] = re_pattern.findall(no_spacing_games_string)\n",
    "    except Exception as e:\n",
    "        print(f\"Error applying regex into moves: {e}\")\n",
    "        return []\n",
    "\n",
    "    return [\n",
    "        Row(\n",
    "            WhiteMoveCount=int(move[0]) if move[0] else None,\n",
    "            WhiteMove=move[1] if move[1] else None,\n",
    "            WhiteEval=move[2] if move[2] else None,\n",
    "            WhiteTime=move[3] if move[3] else None,\n",
    "            BlackMoveCount=int(move[4]) if move[4] else None,\n",
    "            BlackMove=move[5] if move[5] else None,\n",
    "            BlackEval=move[6] if move[6] else None,\n",
    "            BlackTime=move[7] if move[7] else None,\n",
    "            Result=move[8] if move[8] else None,\n",
    "        )\n",
    "        for move in moves\n",
    "    ]"
   ]
  },
  {
   "cell_type": "code",
   "execution_count": 108,
   "metadata": {},
   "outputs": [
    {
     "name": "stderr",
     "output_type": "stream",
     "text": [
      "24/09/18 22:24:37 WARN WindowExec: No Partition Defined for Window operation! Moving all data to a single partition, this can cause serious performance degradation.\n",
      "24/09/18 22:24:37 WARN WindowExec: No Partition Defined for Window operation! Moving all data to a single partition, this can cause serious performance degradation.\n",
      "24/09/18 22:24:37 WARN WindowExec: No Partition Defined for Window operation! Moving all data to a single partition, this can cause serious performance degradation.\n",
      "24/09/18 22:24:37 WARN WindowExec: No Partition Defined for Window operation! Moving all data to a single partition, this can cause serious performance degradation.\n"
     ]
    },
    {
     "name": "stdout",
     "output_type": "stream",
     "text": [
      "+------+--------------+---------+---------+---------+--------------+---------+---------+---------+------+\n",
      "|GameID|WhiteMoveCount|WhiteMove|WhiteEval|WhiteTime|BlackMoveCount|BlackMove|BlackEval|BlackTime|Result|\n",
      "+------+--------------+---------+---------+---------+--------------+---------+---------+---------+------+\n",
      "|    40|             1|       e4|     0.15|  0:03:00|             1|       c5|     0.25|  0:03:00|  NULL|\n",
      "|    40|             2|      Nf3|     0.22|  0:03:00|             2|       d6|     0.26|  0:03:01|  NULL|\n",
      "|    40|             3|      Nc3|     0.13|  0:02:59|             3|       e6|     0.46|  0:03:02|  NULL|\n",
      "|    40|             4|       d3|     0.04|  0:03:00|             4|      Ne7|     0.41|  0:03:03|  NULL|\n",
      "|    40|             5|      Be2|     0.22|  0:03:00|             5|    Ng6?!|     0.86|  0:03:04|  NULL|\n",
      "|    40|             6|      O-O|     0.33|  0:03:01|             6|      Be7|     0.39|  0:03:05|  NULL|\n",
      "|    40|             7|      Be3|     0.32|  0:02:57|             7|      O-O|     0.34|  0:03:06|  NULL|\n",
      "|    40|             8|       d4|     0.33|  0:02:58|             8|     cxd4|     0.37|  0:03:06|  NULL|\n",
      "|    40|             9|     Nxd4|     0.24|  0:02:57|             9|      Nc6|     0.47|  0:03:07|  NULL|\n",
      "|    40|            10|      Qd2|     0.12|  0:02:45|            10|       a6|     0.23|  0:03:05|  NULL|\n",
      "|    40|            11|     Rad1|     -0.1|  0:02:43|            11|    Qc7?!|     0.54|  0:03:06|  NULL|\n",
      "|    40|            12|       f4|     0.27|  0:02:40|            12|      Rd8|     0.59|  0:03:02|  NULL|\n",
      "|    40|            13|       f5|     0.33|  0:02:34|            13|   exf5??|     4.65|  0:03:03|  NULL|\n",
      "|    40|            14|     Nxf5|     1.71|  0:02:25|            14|    Bxf5?|     3.31|  0:02:40|  NULL|\n",
      "|    40|            15|     exf5|      3.3|  0:02:14|            15|     Nge5|     3.17|  0:02:39|  NULL|\n",
      "|    40|            16|      Nd5|     3.01|  0:02:11|            16|    Qd7?!|     3.84|  0:02:39|  NULL|\n",
      "|    40|            17|      Nb6|     3.21|  0:02:10|            17|      Qc7|     3.48|  0:02:32|  NULL|\n",
      "|    40|            18|     Nxa8|     3.54|  0:02:10|            18|     Rxa8|     3.16|  0:02:32|  NULL|\n",
      "|    40|            19|      Kh1|     2.96|  0:02:00|            19|      Rd8|     2.98|  0:02:28|  NULL|\n",
      "|    40|            20|      Bg5|     2.56|  0:01:47|            20|     Bxg5|     2.67|  0:02:27|  NULL|\n",
      "+------+--------------+---------+---------+---------+--------------+---------+---------+---------+------+\n",
      "only showing top 20 rows\n",
      "\n"
     ]
    }
   ],
   "source": [
    "\n",
    "\n",
    "schema = StructType(\n",
    "    [\n",
    "        StructField(\"WhiteMoveCount\", IntegerType(), True),\n",
    "        StructField(\"WhiteMove\", StringType(), True),\n",
    "        StructField(\"WhiteEval\", StringType(), True),\n",
    "        StructField(\"WhiteTime\", StringType(), True),\n",
    "        StructField(\"BlackMoveCount\", IntegerType(), True),\n",
    "        StructField(\"BlackMove\", StringType(), True),\n",
    "        StructField(\"BlackEval\", StringType(), True),\n",
    "        StructField(\"BlackTime\", StringType(), True),\n",
    "        StructField(\"Result\", StringType(), True),\n",
    "    ]\n",
    ")\n",
    "\n",
    "# UDF to parse game moves\n",
    "parse_game_moves_udf = udf(parse_game_moves, ArrayType(schema))\n",
    "\n",
    "# Apply UDF and explode the resulting array of structs\n",
    "parsed_moves_df = id_and_moves_df.withColumn(\n",
    "    \"ParsedMoves\", explode(parse_game_moves_udf(col(\"Moves\")))\n",
    ")\n",
    "\n",
    "# Select the necessary columns and add GameID\n",
    "normalized_moves_df = parsed_moves_df.select(\n",
    "    col(\"GameID\"),\n",
    "    col(\"ParsedMoves.WhiteMoveCount\"),\n",
    "    col(\"ParsedMoves.WhiteMove\"),\n",
    "    col(\"ParsedMoves.WhiteEval\"),\n",
    "    col(\"ParsedMoves.WhiteTime\"),\n",
    "    col(\"ParsedMoves.BlackMoveCount\"),\n",
    "    col(\"ParsedMoves.BlackMove\"),\n",
    "    col(\"ParsedMoves.BlackEval\"),\n",
    "    col(\"ParsedMoves.BlackTime\"),\n",
    "    col(\"ParsedMoves.Result\"),\n",
    ")\n",
    "\n",
    "normalized_moves_df.show()"
   ]
  },
  {
   "cell_type": "code",
   "execution_count": 109,
   "metadata": {},
   "outputs": [
    {
     "name": "stderr",
     "output_type": "stream",
     "text": [
      "24/09/18 22:24:39 WARN WindowExec: No Partition Defined for Window operation! Moving all data to a single partition, this can cause serious performance degradation.\n",
      "24/09/18 22:24:39 WARN WindowExec: No Partition Defined for Window operation! Moving all data to a single partition, this can cause serious performance degradation.\n",
      "24/09/18 22:24:39 WARN WindowExec: No Partition Defined for Window operation! Moving all data to a single partition, this can cause serious performance degradation.\n",
      "24/09/18 22:24:39 WARN WindowExec: No Partition Defined for Window operation! Moving all data to a single partition, this can cause serious performance degradation.\n",
      "24/09/18 22:24:41 WARN WindowExec: No Partition Defined for Window operation! Moving all data to a single partition, this can cause serious performance degradation.\n",
      "24/09/18 22:24:41 WARN WindowExec: No Partition Defined for Window operation! Moving all data to a single partition, this can cause serious performance degradation.\n",
      "24/09/18 22:24:42 WARN WindowExec: No Partition Defined for Window operation! Moving all data to a single partition, this can cause serious performance degradation.\n",
      "24/09/18 22:24:42 WARN WindowExec: No Partition Defined for Window operation! Moving all data to a single partition, this can cause serious performance degradation.\n"
     ]
    },
    {
     "name": "stdout",
     "output_type": "stream",
     "text": [
      "+--------------+---------+---------+---------+--------------+---------+---------+---------+------+------+\n",
      "|WhiteMoveCount|WhiteMove|WhiteEval|WhiteTime|BlackMoveCount|BlackMove|BlackEval|BlackTime|Result|GameID|\n",
      "+--------------+---------+---------+---------+--------------+---------+---------+---------+------+------+\n",
      "|             1|       e4|     0.15|  0:03:00|             1|       c5|     0.25|  0:03:00|  NULL|    40|\n",
      "|             2|      Nf3|     0.22|  0:03:00|             2|       d6|     0.26|  0:03:01|  NULL|    50|\n",
      "|             3|      Nc3|     0.13|  0:02:59|             3|       e6|     0.46|  0:03:02|  NULL|    52|\n",
      "|             4|       d3|     0.04|  0:03:00|             4|      Ne7|     0.41|  0:03:03|  NULL|    58|\n",
      "|             5|      Be2|     0.22|  0:03:00|             5|    Ng6?!|     0.86|  0:03:04|  NULL|    61|\n",
      "|             6|      O-O|     0.33|  0:03:01|             6|      Be7|     0.39|  0:03:05|  NULL|    65|\n",
      "|             7|      Be3|     0.32|  0:02:57|             7|      O-O|     0.34|  0:03:06|  NULL|    71|\n",
      "|             8|       d4|     0.33|  0:02:58|             8|     cxd4|     0.37|  0:03:06|  NULL|    83|\n",
      "|             9|     Nxd4|     0.24|  0:02:57|             9|      Nc6|     0.47|  0:03:07|  NULL|    89|\n",
      "|            10|      Qd2|     0.12|  0:02:45|            10|       a6|     0.23|  0:03:05|  NULL|    91|\n",
      "|            11|     Rad1|     -0.1|  0:02:43|            11|    Qc7?!|     0.54|  0:03:06|  NULL|   110|\n",
      "|            12|       f4|     0.27|  0:02:40|            12|      Rd8|     0.59|  0:03:02|  NULL|   123|\n",
      "|            13|       f5|     0.33|  0:02:34|            13|   exf5??|     4.65|  0:03:03|  NULL|   130|\n",
      "|            14|     Nxf5|     1.71|  0:02:25|            14|    Bxf5?|     3.31|  0:02:40|  NULL|   132|\n",
      "|            15|     exf5|      3.3|  0:02:14|            15|     Nge5|     3.17|  0:02:39|  NULL|   142|\n",
      "|            16|      Nd5|     3.01|  0:02:11|            16|    Qd7?!|     3.84|  0:02:39|  NULL|   154|\n",
      "|            17|      Nb6|     3.21|  0:02:10|            17|      Qc7|     3.48|  0:02:32|  NULL|   173|\n",
      "|            18|     Nxa8|     3.54|  0:02:10|            18|     Rxa8|     3.16|  0:02:32|  NULL|   190|\n",
      "|            19|      Kh1|     2.96|  0:02:00|            19|      Rd8|     2.98|  0:02:28|  NULL|   208|\n",
      "|            20|      Bg5|     2.56|  0:01:47|            20|     Bxg5|     2.67|  0:02:27|  NULL|   209|\n",
      "+--------------+---------+---------+---------+--------------+---------+---------+---------+------+------+\n",
      "only showing top 20 rows\n",
      "\n"
     ]
    }
   ],
   "source": [
    "moves_values = id_and_moves_df.select(\"Moves\").rdd.flatMap(lambda x: x).collect()\n",
    "parsed_moves_rows = [parse_game_moves(move) for move in moves_values]\n",
    "normalized_moves_df = spark.createDataFrame(\n",
    "    data=[move for moves in parsed_moves_rows for move in moves],\n",
    "    schema=\"WhiteMoveCount INT, WhiteMove STRING, WhiteEval STRING, WhiteTime STRING, BlackMoveCount INT, BlackMove STRING, BlackEval STRING, BlackTime STRING, Result STRING\",\n",
    ")\n",
    "\n",
    "# temporary variable\n",
    "normalized_moves_df = normalized_moves_df.withColumn(\n",
    "    \"row_num\", monotonically_increasing_id()\n",
    ")\n",
    "\n",
    "# temporary variable\n",
    "game_id_df = id_and_moves_df.select(\"GameID\").withColumn(\n",
    "    \"row_num\", monotonically_increasing_id()\n",
    ")\n",
    "\n",
    "# Join the DataFrames on the \"row_num\" column and drop the \"row_num\" column\n",
    "normalized_moves_df = normalized_moves_df.join(game_id_df, \"row_num\", \"left\").drop(\n",
    "    \"row_num\"\n",
    ")\n",
    "\n",
    "normalized_moves_df.show()"
   ]
  },
  {
   "cell_type": "code",
   "execution_count": 110,
   "metadata": {},
   "outputs": [],
   "source": [
    "normalized_moves_df = normalized_moves_df.withColumn(\n",
    "    \"Result\",\n",
    "    when(\n",
    "        (col(\"Result\").isNull())\n",
    "        & (col(\"WhiteMove\").contains(\"-\"))\n",
    "        & (col(\"BlackMove\").rlike(r\"-\")),\n",
    "        coalesce(col(\"WhiteMove\"), col(\"BlackMove\")),\n",
    "    ).otherwise(col(\"Result\")),\n",
    ")"
   ]
  },
  {
   "cell_type": "markdown",
   "metadata": {},
   "source": [
    "## Ingestion into Delta Lake"
   ]
  },
  {
   "cell_type": "code",
   "execution_count": 111,
   "metadata": {},
   "outputs": [
    {
     "data": {
      "text/plain": [
       "'/Users/jcbraz/Projects/chess-pipeline'"
      ]
     },
     "execution_count": 111,
     "metadata": {},
     "output_type": "execute_result"
    }
   ],
   "source": [
    "current_path = os.path.abspath(os.getcwd())\n",
    "current_path = current_path.split(\"/\")[:-1]\n",
    "current_path = \"/\".join(current_path)\n",
    "current_path"
   ]
  },
  {
   "cell_type": "code",
   "execution_count": 112,
   "metadata": {},
   "outputs": [
    {
     "name": "stderr",
     "output_type": "stream",
     "text": [
      "24/09/18 22:24:44 WARN WindowExec: No Partition Defined for Window operation! Moving all data to a single partition, this can cause serious performance degradation.\n",
      "24/09/18 22:24:44 WARN WindowExec: No Partition Defined for Window operation! Moving all data to a single partition, this can cause serious performance degradation.\n",
      "24/09/18 22:24:45 WARN WindowExec: No Partition Defined for Window operation! Moving all data to a single partition, this can cause serious performance degradation.\n",
      "24/09/18 22:24:45 WARN WindowExec: No Partition Defined for Window operation! Moving all data to a single partition, this can cause serious performance degradation.\n",
      "                                                                                \r"
     ]
    }
   ],
   "source": [
    "normalized_moves_df.sort(\n",
    "    [\"WhiteMoveCount\", \"BlackMoveCount\", \"WhiteTime\", \"BlackTime\"]\n",
    ").write.format(\"delta\").mode(\"overwrite\").save(f\"{current_path}/data/normalized_moves\")"
   ]
  }
 ],
 "metadata": {
  "kernelspec": {
   "display_name": ".venv",
   "language": "python",
   "name": "python3"
  },
  "language_info": {
   "codemirror_mode": {
    "name": "ipython",
    "version": 3
   },
   "file_extension": ".py",
   "mimetype": "text/x-python",
   "name": "python",
   "nbconvert_exporter": "python",
   "pygments_lexer": "ipython3",
   "version": "3.12.0"
  }
 },
 "nbformat": 4,
 "nbformat_minor": 2
}
